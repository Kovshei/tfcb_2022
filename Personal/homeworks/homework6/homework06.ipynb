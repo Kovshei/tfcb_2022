{
 "cells": [
  {
   "cell_type": "markdown",
   "metadata": {},
   "source": [
    "# Homework 6\n",
    "\n",
    "TFCB 2022\n",
    "\n",
    "Due date: Nov 17, 2022 1PM"
   ]
  },
  {
   "cell_type": "markdown",
   "metadata": {},
   "source": [
    "In this homework, we will work through a series of manipulations to analyze a published deep sequencing\n",
    "dataset using `tidyverse` functions.\n",
    "\n",
    "In the process, we will learn some new functions in `tidyverse` and apply\n",
    "them to our data analysis.\n",
    "\n",
    "For more information about the data used in this homework, see\n",
    "[this page](https://www.ncbi.nlm.nih.gov/geo/query/acc.cgi?acc=GSE89183).\n"
   ]
  },
  {
   "cell_type": "code",
   "execution_count": 1,
   "metadata": {
    "vscode": {
     "languageId": "r"
    }
   },
   "outputs": [
    {
     "name": "stderr",
     "output_type": "stream",
     "text": [
      "── \u001b[1mAttaching packages\u001b[22m ─────────────────────────────────────── tidyverse 1.3.1 ──\n",
      "\n",
      "\u001b[32m✔\u001b[39m \u001b[34mggplot2\u001b[39m 3.3.6     \u001b[32m✔\u001b[39m \u001b[34mpurrr  \u001b[39m 0.3.4\n",
      "\u001b[32m✔\u001b[39m \u001b[34mtibble \u001b[39m 3.1.7     \u001b[32m✔\u001b[39m \u001b[34mdplyr  \u001b[39m 1.0.9\n",
      "\u001b[32m✔\u001b[39m \u001b[34mtidyr  \u001b[39m 1.2.0     \u001b[32m✔\u001b[39m \u001b[34mstringr\u001b[39m 1.4.0\n",
      "\u001b[32m✔\u001b[39m \u001b[34mreadr  \u001b[39m 2.1.2     \u001b[32m✔\u001b[39m \u001b[34mforcats\u001b[39m 0.5.1\n",
      "\n",
      "── \u001b[1mConflicts\u001b[22m ────────────────────────────────────────── tidyverse_conflicts() ──\n",
      "\u001b[31m✖\u001b[39m \u001b[34mdplyr\u001b[39m::\u001b[32mfilter()\u001b[39m masks \u001b[34mstats\u001b[39m::filter()\n",
      "\u001b[31m✖\u001b[39m \u001b[34mdplyr\u001b[39m::\u001b[32mlag()\u001b[39m    masks \u001b[34mstats\u001b[39m::lag()\n",
      "\n"
     ]
    }
   ],
   "source": [
    "library(tidyverse)"
   ]
  },
  {
   "cell_type": "code",
   "execution_count": 7,
   "metadata": {
    "vscode": {
     "languageId": "r"
    }
   },
   "outputs": [
    {
     "name": "stdout",
     "output_type": "stream",
     "text": [
      "[1] 1\n"
     ]
    }
   ],
   "source": [
    "test <- 1\n",
    "print(test)"
   ]
  },
  {
   "cell_type": "markdown",
   "metadata": {},
   "source": [
    "## Problem 1\n",
    "\n",
    "**10 points**\n",
    "\n",
    "For each of the following functions, provide a <100 character description\n",
    "(in your own words) and a URL reference.\n",
    "\n",
    "1. `!` Allows you to do a \"not check\" or opposite check for example == !True means ==False\n",
    "https://itsalocke.com/blog/learn-to-r-blog-series---operators-and-objects/#:~:text=The%20exclamation%20point%20(%20!%20),that%20check%20not%20true%3F%E2%80%9D.\n",
    "2. `is.na` Checks data for NA values, returns true if there is an Na\n",
    "https://r-lang.com/is-na-in-r/\n",
    "3. `is.numeric`\n",
    "Checks data for numeric values, returns true if there is\n",
    "https://r-lang.com/is-numeric-in-r/\n",
    "4. `anti_join` If you are trying to combine two data frames by some column value anti join will show you what rows are contained in the first dataframe but not the second.\n",
    "http://zevross.com/blog/2014/08/05/using-the-r-function-anti_join-to-find-unmatched-records/\n",
    "\n",
    "5. `desc`\n",
    "Can be used to sort by descending order, useful with the function arrange to make a column in a tibble or dataframe into descending order\n",
    "https://dplyr.tidyverse.org/reference/desc.html\n",
    "6. `dplyr::slice`\n",
    "A function that provides various ways to manipulate rows in a dataframe including moving, deleting and selecting.\n",
    "https://dplyr.tidyverse.org/reference/slice.html\n",
    "7. `dplyr::across`\n",
    "Allows you to apply a function to a selection of columns \n",
    "https://dplyr.tidyverse.org/reference/across.html\n"
   ]
  },
  {
   "cell_type": "markdown",
   "metadata": {},
   "source": [
    "## Problem 2\n",
    "\n",
    "**10 points**\n",
    "\n",
    "Add a comment above each code line below explaining what the code line does and/or why\n",
    "that code line is necessary.\n",
    "\n",
    "Keep each comment to less than 2 lines per line of code and < 80 chars per line."
   ]
  },
  {
   "cell_type": "code",
   "execution_count": 2,
   "metadata": {
    "vscode": {
     "languageId": "r"
    }
   },
   "outputs": [
    {
     "name": "stderr",
     "output_type": "stream",
     "text": [
      "Warning message:\n",
      "“One or more parsing issues, see `problems()` for details”\n",
      "\u001b[1mRows: \u001b[22m\u001b[34m19229\u001b[39m \u001b[1mColumns: \u001b[22m\u001b[34m54\u001b[39m\n",
      "\u001b[36m──\u001b[39m \u001b[1mColumn specification\u001b[22m \u001b[36m────────────────────────────────────────────────────────\u001b[39m\n",
      "\u001b[1mDelimiter:\u001b[22m \"\\t\"\n",
      "\u001b[31mchr\u001b[39m  (39): hgnc_id, symbol, name, locus_group, locus_type, status, location,...\n",
      "\u001b[32mdbl\u001b[39m   (3): entrez_id, homeodb, orphanet\n",
      "\u001b[33mlgl\u001b[39m   (8): mirbase, snornabase, imgt, kznf_gene_catalog, mamit-trnadb, lncrn...\n",
      "\u001b[34mdate\u001b[39m  (4): date_approved_reserved, date_symbol_changed, date_name_changed, d...\n",
      "\n",
      "\u001b[36mℹ\u001b[39m Use `spec()` to retrieve the full column specification for this data.\n",
      "\u001b[36mℹ\u001b[39m Specify the column types or set `show_col_types = FALSE` to quiet this message.\n"
     ]
    },
    {
     "name": "stdout",
     "output_type": "stream",
     "text": [
      "\u001b[90m# A tibble: 18,785 × 5\u001b[39m\n",
      "   ensembl_gene_id symbol  name                               gene_group ccds_id\n",
      "   \u001b[3m\u001b[90m<chr>\u001b[39m\u001b[23m           \u001b[3m\u001b[90m<chr>\u001b[39m\u001b[23m   \u001b[3m\u001b[90m<chr>\u001b[39m\u001b[23m                              \u001b[3m\u001b[90m<chr>\u001b[39m\u001b[23m      \u001b[3m\u001b[90m<chr>\u001b[39m\u001b[23m  \n",
      "\u001b[90m 1\u001b[39m ENSG00000121410 A1BG    alpha-1-B glycoprotein             Immunoglo… CCDS12…\n",
      "\u001b[90m 2\u001b[39m ENSG00000148584 A1CF    APOBEC1 complementation factor     RNA bindi… CCDS72…\n",
      "\u001b[90m 3\u001b[39m ENSG00000175899 A2M     alpha-2-macroglobulin              Alpha-2-m… CCDS44…\n",
      "\u001b[90m 4\u001b[39m ENSG00000166535 A2ML1   alpha-2-macroglobulin like 1       Alpha-2-m… CCDS85…\n",
      "\u001b[90m 5\u001b[39m ENSG00000184389 A3GALT2 alpha 1,3-galactosyltransferase 2  Glycosylt… CCDS60…\n",
      "\u001b[90m 6\u001b[39m ENSG00000128274 A4GALT  alpha 1,4-galactosyltransferase (… Alpha 1,4… CCDS14…\n",
      "\u001b[90m 7\u001b[39m ENSG00000118017 A4GNT   alpha-1,4-N-acetylglucosaminyltra… Alpha 1,4… CCDS30…\n",
      "\u001b[90m 8\u001b[39m ENSG00000094914 AAAS    aladin WD repeat nucleoporin       WD repeat… CCDS53…\n",
      "\u001b[90m 9\u001b[39m ENSG00000081760 AACS    acetoacetyl-CoA synthetase         Acyl-CoA … CCDS92…\n",
      "\u001b[90m10\u001b[39m ENSG00000114771 AADAC   arylacetamide deacetylase          Lipases|A… CCDS33…\n",
      "\u001b[90m# … with 18,775 more rows\u001b[39m\n"
     ]
    }
   ],
   "source": [
    "#Here we are reading in data with the function read_tsv and passing the output to the next function with the pipe,\n",
    "#Once all the pipes have been traveled through the result will be assigned to the new object annotations \n",
    "annotations <- read_tsv(\"ftp://ftp.ebi.ac.uk/pub/databases/genenames/new/tsv/locus_groups/protein-coding_gene.txt\") %>%\n",
    "  #We are now selecting what columns aka variables of the data we want to see\n",
    "  select(ensembl_gene_id, symbol, name, gene_group, ccds_id) %>%\n",
    "  #Here we are selecting only the rows that do not have a missing value for ccds_id\n",
    "  filter(!is.na(ccds_id)) %>%\n",
    "  print()"
   ]
  },
  {
   "cell_type": "code",
   "execution_count": null,
   "metadata": {
    "vscode": {
     "languageId": "r"
    }
   },
   "outputs": [],
   "source": [
    "data <- read_tsv(\"ftp://ftp.ncbi.nlm.nih.gov/geo/series/GSE89nnn/GSE89183/suppl/GSE89183_Counts.txt.gz\") %>%\n",
    "  rename(ensembl_gene_id = `ENSEMBL gene`) %>%\n",
    "  print()"
   ]
  },
  {
   "cell_type": "markdown",
   "metadata": {},
   "source": [
    "## Problem 3\n",
    "\n",
    "**10 points**\n",
    "\n",
    "Using the code below:\n",
    "\n",
    "1. Convert both axes to `log10` instead of linear scales.\n",
    "2. Show axis tick labels as 10^0^, 10^1^, 10^2^,10^3^, 10^4^, 10^5^ for both axes.\n",
    "3. There are too many points overlapping in certain regions. Use a different\n",
    "`geom_` function to convey to your reader how many overlapping points are present\n",
    "in each region."
   ]
  },
  {
   "cell_type": "code",
   "execution_count": null,
   "metadata": {
    "vscode": {
     "languageId": "r"
    }
   },
   "outputs": [],
   "source": [
    "data %>%\n",
    "  select(CD34_shRPL5_RNA_1, CD34_shRPS19_RNA_1) %>%\n",
    "  ggplot(aes(x = CD34_shRPL5_RNA_1, y = CD34_shRPS19_RNA_1)) +\n",
    "  geom_point()"
   ]
  },
  {
   "cell_type": "markdown",
   "metadata": {},
   "source": [
    "**In problems 4 through 6, assign the result of your operation back to the `data`\n",
    "variable.**"
   ]
  },
  {
   "cell_type": "markdown",
   "metadata": {},
   "source": [
    "## Problem 4\n",
    "\n",
    "**10 points**\n",
    "\n",
    "Write a code cell to select the following columns from the `data` variable you created above and reassign back to `data`.\n",
    "\n",
    "Columns to select: `ensembl_gene_id`, columns that have either `RPL5`, `RPS19`, or `Luc` in their name.\n",
    "\n",
    "Instead of listing every column, use [`matches`](https://tidyselect.r-lib.org/reference/starts_with.html) and a succinct [regular expression](https://stringr.tidyverse.org/articles/regular-expressions.html) to select the above columns."
   ]
  },
  {
   "cell_type": "markdown",
   "metadata": {},
   "source": [
    "## Problem 5\n",
    "\n",
    "**10 points**\n",
    "\n",
    "Write a code cell to filter the result from Problem 4 to include only rows where each of the 12 numerical columns you selected has 50 counts or more  and reassign back to `data`.\n",
    "This is a simple way to avoid genes that have very low counts.\n",
    "\n",
    "You might be tempted to do this step separately for each of the 12 columns, but instead use the `across` function you learned above or the `pivot_longer` function from the class (either way is fine)."
   ]
  },
  {
   "cell_type": "markdown",
   "metadata": {},
   "source": [
    "## Problem 6\n",
    "\n",
    "**10 points**\n",
    "\n",
    "Write a code cell to divide each of the 12 numerical columns by the\n",
    "corresponding median value for each column\n",
    "and reassign back to `data`. This median normalization is typically done in\n",
    "high-throughput experiments after filtering\n",
    "to normalize for sample-to-sample difference in read depth.\n",
    "\n",
    "Again, you can write lot less code if you use the `mutate` and `across` function\n",
    "you learned above.\n"
   ]
  },
  {
   "cell_type": "markdown",
   "metadata": {},
   "source": [
    "## Problem 7\n",
    "\n",
    "**10 points**\n",
    "\n",
    "After we do the above filtering and median-normalization, let us calculate\n",
    "translation efficiency as the average ratio of the RPF and RNA reads for each\n",
    "treatment condition. Then we calculate how this translation efficiency changes\n",
    "between target (`rpl5` and `rps19`) and control (`luc`) shRNAs.\n",
    "\n",
    "The code implementing the above steps is shown below, but it has a few\n",
    "errors. Correct them.\n"
   ]
  },
  {
   "cell_type": "code",
   "execution_count": null,
   "metadata": {
    "vscode": {
     "languageId": "r"
    }
   },
   "outputs": [],
   "source": [
    "lfc <- data %>%\n",
    "  mutate(mean_rpl5_te = ((CD34_shRPL5_RPF_1 + CD34_shRPL5_RPF_2) /\n",
    "                            (CD34_shRPL5_RNA_1 + CD34_shRPL5_RNA_2)) %>%\n",
    "  mutate(mean_rps19_te = ((CD34_shRPS19_RPF_1 + CD34_shRPS19_RPF_2) /\n",
    "                            (CD34_shRPS19_RNA_1 + CD34_shRPS19_RNA_2)) %>%\n",
    "  mutate(mean_shluc_te = ((CD34_shLuc_RPF_1 + CD34_shLuc_RPF_2) /\n",
    "                            (CD34_shLuc_RNA_1 + CD34_shLuc_RNA2)) %>%\n",
    "  select(ensembl_gene_id, mean_rpl5_te, mean_rps19_te) %>%\n",
    "  mutate(lfc_te_rpl5 == log2(mean_rpl5_te / mean_shluc_te),\n",
    "         lfc_te_rps19 == log2(mean_rps19_te / mean_shluc_te)) %>%\n",
    "  print()"
   ]
  },
  {
   "cell_type": "markdown",
   "metadata": {},
   "source": [
    "## Problem 8\n",
    "\n",
    "**10 points**\n",
    "\n",
    "Write code that will create a new dataframe called `mean_lfc` from `lfc`\n",
    "containing a new column called `avg_lfc`.\n",
    "`avg_lfc` should be the average of the log2 fold-change in TE (`lfc_te`) upon\n",
    "knockdown of RPL5 and RPS19.\n",
    "\n",
    "Then select only the gene id column and the new column that you just created\n",
    "(this will be your new dataframe `mean_lfc`).\n"
   ]
  },
  {
   "cell_type": "markdown",
   "metadata": {},
   "source": [
    "\n",
    "## Problem 9\n",
    "\n",
    "**10 points**\n",
    "\n",
    "Write code to join the `mean_lfc` dataframe with the `annotations` dataframe created\n",
    "at the top of the document and assign back to `mean_lfc`.\n"
   ]
  },
  {
   "cell_type": "markdown",
   "metadata": {},
   "source": [
    "## Problem 10\n",
    "\n",
    "**10 points**\n",
    "\n",
    "1. Write code to select only the bottom 10 genes with the lowest `avg_lfc` and display the gene `symbol`, gene `name` and `avg_lfc` for these genes.\n",
    "2. Create a figure using `ggplot2` to visualize these results.\n",
    "\n",
    "Write a few sentences to justify the choices you made when creating your figure."
   ]
  }
 ],
 "metadata": {
  "interpreter": {
   "hash": "20b806d4119a16f99164bba4792c78ffcd4bd5c34ada550ca95cde3929bf6a1c"
  },
  "kernelspec": {
   "display_name": "R",
   "language": "R",
   "name": "ir"
  },
  "language_info": {
   "codemirror_mode": "r",
   "file_extension": ".r",
   "mimetype": "text/x-r-source",
   "name": "R",
   "pygments_lexer": "r",
   "version": "4.1.3"
  },
  "orig_nbformat": 4
 },
 "nbformat": 4,
 "nbformat_minor": 2
}
