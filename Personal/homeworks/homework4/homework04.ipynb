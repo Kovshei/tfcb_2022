{
 "cells": [
  {
   "cell_type": "markdown",
   "metadata": {},
   "source": [
    "# Homework 4: Practical analysis with BioPython"
   ]
  },
  {
   "cell_type": "markdown",
   "metadata": {},
   "source": [
    "For the homework, you are going to extend the code from the analysis of our FASTQ file in lectures 8 and 9.\n",
    "Recall that the FASTQ file contains reads from a real sequencing run of influenza virus HA and NA genes.\n",
    "\n",
    "The _actual sequences_ are as follows:\n",
    "\n",
    "    5'-[end of HA]-AGGCGGCCGC-[16 X N barcode]-3'\n",
    "    \n",
    "or \n",
    "\n",
    "    5'-[end of NA]-AGGCGGCCGC-[16 X N barcode]-3'\n",
    "    \n",
    "The end of NA is:\n",
    "\n",
    "    ...CACGATAGATAAATAATAGTGCACCAT\n",
    "    \n",
    "The end of HA is:\n",
    "\n",
    "    ...CCGGATTTGCATATAATGATGCACCAT\n",
    "    \n",
    "The _sequencing reads_ (located in the FASTQ file) are from the reverse end of these actual sequences, so the first thing in the sequencing reads is the reverse complement of the barcode followed by the reverse complement of the constant sequence, etc.\n",
    "The reads can originate from **either** HA or NA, and that will be distinguished by the most 3' end of the read.\n",
    "But in our example exercise in class, we did not distinguish among reads matching to HA and NA, as we didn't even look far enough into the read to tell the identity.\n",
    "\n",
    "For the homework, your goal is to write code that extends the material from lectures 8 and 9 to also distinguish between HA and NA.\n",
    "This homework can be completed almost entirely by re-using code from lecture 9. You will need to set up your analysis to do the following:\n",
    " 1. Get the reverse complement of each read.\n",
    " 2. Determine if it matches the expected pattern for HA and NA, and if so which one.\n",
    " 3. If it matches, extract the barcode and add it to a dictionary to keep track of counts.\n",
    " 4. Determine the number and distribution of barcodes for HA and NA separately.\n",
    "\n",
    "Please include code to address each of the following questions. Please include code comments to explain what your code is attempting to accomplish. Don't forget to include references to the sources you used to obtain your answer, including your classmates (if you are working in groups).  "
   ]
  },
  {
   "cell_type": "code",
   "execution_count": 3,
   "metadata": {},
   "outputs": [],
   "source": [
    "#Import Packages\n",
    "import re\n",
    "import Bio.SeqIO"
   ]
  },
  {
   "cell_type": "code",
   "execution_count": 4,
   "metadata": {},
   "outputs": [],
   "source": [
    "#Read in sequencing data(from Lecture 9)\n",
    "seqreads = list(Bio.SeqIO.parse('barcodes_R1.fastq', format='fastq'))"
   ]
  },
  {
   "cell_type": "code",
   "execution_count": 5,
   "metadata": {},
   "outputs": [],
   "source": [
    "#Convert SeqRecords objects to a list of strings(Lecture 9)\n",
    "seqreads_str = []\n",
    "for seqrecord in seqreads:\n",
    "    sequence = str(seqrecord.seq) # convert sequence part to string\n",
    "    seqreads_str.append(sequence) # add string sequence to list"
   ]
  },
  {
   "cell_type": "code",
   "execution_count": 34,
   "metadata": {},
   "outputs": [
    {
     "name": "stdout",
     "output_type": "stream",
     "text": [
      "                                               Sequence\n",
      "0     GCTTAAGTTATTTAGTGCGGCCGCCTATGGTGCACTATTATTTATC...\n",
      "1     CTTCCTGGTCACGGTTGCGGCCGCCTATGGTGCATCATTATATGCA...\n",
      "2     CACGGCTATTACCCCGCGGCCGCCTATGGTGCACTATTATTTATCT...\n",
      "3     TCAGCGATGAATGTGGGCGGCCGCCTATGTTGCATCATTATATGCA...\n",
      "4     ATATGGGAGACGATAAGCGGCCGCCTATGGTGCATCATTATATGCA...\n",
      "...                                                 ...\n",
      "9995  GCCGTATGGCTGGTGGGCGGCCGCCTATGGTGCACTATTATTTATC...\n",
      "9996  GGACAGCAGGGAGCGGGCGGCCGCCTATGGTGCATCATTATATGCA...\n",
      "9997  TTTATATGAGTTTCGTGCGGCCGCCTATGGTGCACTATTATTTATC...\n",
      "9998  GGAGTTTATAACATGCGCGGCCGCCTATGGTGCACTATTATTTATC...\n",
      "9999  CGTAGGATTGAATTAGGCGGCCGCCTATGGTGCACTATTATTTATC...\n",
      "\n",
      "[10000 rows x 1 columns]\n"
     ]
    }
   ],
   "source": [
    "#Converst list of sequences to dataframe \n",
    "import pandas as pd\n",
    "import numpy as np\n",
    "\n",
    "df = pd.DataFrame (seqreads_str, columns = ['Sequence'])\n",
    "\n",
    "print(df)"
   ]
  },
  {
   "cell_type": "code",
   "execution_count": 23,
   "metadata": {},
   "outputs": [],
   "source": [
    "#Make a function to get R.C from each strong(Lecture 9)\n",
    "def reverse_complement(seq, unk_partner = 'N'):\n",
    "    base_partner = {'A':'T', 'T':'A', 'C':'G', 'G':'C'} #Make Dictionary of basepairs\n",
    "    rseq = '' #Make Empty String\n",
    "    for a in seq: #loops over bases in sequence\n",
    "        if a in base_partner:\n",
    "            # look up the complementary base in the dictionary\n",
    "            pair = base_partner[a]\n",
    "            rseq = pair + rseq #build reverse comp string\n",
    "        else:\n",
    "            rseq = unk_partner + rseq\n",
    "    return rseq "
   ]
  },
  {
   "cell_type": "code",
   "execution_count": 45,
   "metadata": {},
   "outputs": [
    {
     "name": "stdout",
     "output_type": "stream",
     "text": [
      "                                               Sequence  \\\n",
      "0     GCTTAAGTTATTTAGTGCGGCCGCCTATGGTGCACTATTATTTATC...   \n",
      "1     CTTCCTGGTCACGGTTGCGGCCGCCTATGGTGCATCATTATATGCA...   \n",
      "2     CACGGCTATTACCCCGCGGCCGCCTATGGTGCACTATTATTTATCT...   \n",
      "3     TCAGCGATGAATGTGGGCGGCCGCCTATGTTGCATCATTATATGCA...   \n",
      "4     ATATGGGAGACGATAAGCGGCCGCCTATGGTGCATCATTATATGCA...   \n",
      "...                                                 ...   \n",
      "9995  GCCGTATGGCTGGTGGGCGGCCGCCTATGGTGCACTATTATTTATC...   \n",
      "9996  GGACAGCAGGGAGCGGGCGGCCGCCTATGGTGCATCATTATATGCA...   \n",
      "9997  TTTATATGAGTTTCGTGCGGCCGCCTATGGTGCACTATTATTTATC...   \n",
      "9998  GGAGTTTATAACATGCGCGGCCGCCTATGGTGCACTATTATTTATC...   \n",
      "9999  CGTAGGATTGAATTAGGCGGCCGCCTATGGTGCACTATTATTTATC...   \n",
      "\n",
      "                                           Reverse_Comp  \n",
      "0     TCTGCTATTCCGTGTCAATAAACATCGTCGTTGCATGCCTTCATTT...  \n",
      "1     TCGTACACTCTGTCATTAGGGATGTATTTGTTTAATGCATGGGGTT...  \n",
      "2     TCGTAGTGTATAGTAGAAGGGACGTCTACGTTAATCAGTGTCATAA...  \n",
      "3     TCAGATGAATGGTAGTTGGTGATAGCATGAGGTTGGGTCGGATGGT...  \n",
      "4     GAGTAAAGACTGTGTTCTGGGACGCGATCGAGTCTGCGAATGTGTG...  \n",
      "...                                                 ...  \n",
      "9995  GGGTTGTAGGTGTCTTCTGAGTCACTGTCGAATCAGGAGAGGTGTG...  \n",
      "9996  GCGTATAATCTGTAACCTCAATTGCGGCTCAGTAGTGCCCGGGGTC...  \n",
      "9997  CGGGAGTAGTGGAGTGTCGCAACGTGCTCGCTTATAGGATTCTGGC...  \n",
      "9998  TCGTAAGAACGGTGTTCAGGATTACGATGAATTAAAGCCTGTAGCC...  \n",
      "9999  TTATATTATTTGTCTGCAGATATATGTGTAAATTTTGCATAGTATT...  \n",
      "\n",
      "[10000 rows x 2 columns]\n"
     ]
    }
   ],
   "source": [
    "#Add a column of the Reverse compliment for each sequence \n",
    "df['Reverse_Comp'] = df['Sequence'].apply(reverse_complement)\n",
    "print(df)"
   ]
  },
  {
   "cell_type": "code",
   "execution_count": 48,
   "metadata": {},
   "outputs": [],
   "source": [
    "#Make Function to Determine if sequences are NA \n",
    "#NAend='CACGATAGATAAATAATAGTGCACCAT'\n",
    "\n",
    "def read_typeNA(seqreads):\n",
    "    \n",
    "    # compile the type search pattern\n",
    "    type_pattern = re.compile(\"(CACGATAGATAAATAATAGTGCACCAT)\") #need to change\n",
    "\n",
    "    match = type_pattern.search(seqreads)\n",
    "    #1 = true and 0 equals false\n",
    "    if match:\n",
    "        return 1\n",
    "    else:\n",
    "        return 0"
   ]
  },
  {
   "cell_type": "code",
   "execution_count": 49,
   "metadata": {},
   "outputs": [
    {
     "name": "stdout",
     "output_type": "stream",
     "text": [
      "                                               Sequence  \\\n",
      "0     GCTTAAGTTATTTAGTGCGGCCGCCTATGGTGCACTATTATTTATC...   \n",
      "1     CTTCCTGGTCACGGTTGCGGCCGCCTATGGTGCATCATTATATGCA...   \n",
      "2     CACGGCTATTACCCCGCGGCCGCCTATGGTGCACTATTATTTATCT...   \n",
      "3     TCAGCGATGAATGTGGGCGGCCGCCTATGTTGCATCATTATATGCA...   \n",
      "4     ATATGGGAGACGATAAGCGGCCGCCTATGGTGCATCATTATATGCA...   \n",
      "...                                                 ...   \n",
      "9995  GCCGTATGGCTGGTGGGCGGCCGCCTATGGTGCACTATTATTTATC...   \n",
      "9996  GGACAGCAGGGAGCGGGCGGCCGCCTATGGTGCATCATTATATGCA...   \n",
      "9997  TTTATATGAGTTTCGTGCGGCCGCCTATGGTGCACTATTATTTATC...   \n",
      "9998  GGAGTTTATAACATGCGCGGCCGCCTATGGTGCACTATTATTTATC...   \n",
      "9999  CGTAGGATTGAATTAGGCGGCCGCCTATGGTGCACTATTATTTATC...   \n",
      "\n",
      "                                           Reverse_Comp  NA?  HA?  \n",
      "0     TCTGCTATTCCGTGTCAATAAACATCGTCGTTGCATGCCTTCATTT...    1    0  \n",
      "1     TCGTACACTCTGTCATTAGGGATGTATTTGTTTAATGCATGGGGTT...    0    1  \n",
      "2     TCGTAGTGTATAGTAGAAGGGACGTCTACGTTAATCAGTGTCATAA...    1    0  \n",
      "3     TCAGATGAATGGTAGTTGGTGATAGCATGAGGTTGGGTCGGATGGT...    0    0  \n",
      "4     GAGTAAAGACTGTGTTCTGGGACGCGATCGAGTCTGCGAATGTGTG...    0    1  \n",
      "...                                                 ...  ...  ...  \n",
      "9995  GGGTTGTAGGTGTCTTCTGAGTCACTGTCGAATCAGGAGAGGTGTG...    1    0  \n",
      "9996  GCGTATAATCTGTAACCTCAATTGCGGCTCAGTAGTGCCCGGGGTC...    0    1  \n",
      "9997  CGGGAGTAGTGGAGTGTCGCAACGTGCTCGCTTATAGGATTCTGGC...    1    0  \n",
      "9998  TCGTAAGAACGGTGTTCAGGATTACGATGAATTAAAGCCTGTAGCC...    1    0  \n",
      "9999  TTATATTATTTGTCTGCAGATATATGTGTAAATTTTGCATAGTATT...    1    0  \n",
      "\n",
      "[10000 rows x 4 columns]\n"
     ]
    }
   ],
   "source": [
    "#Add a column to evalulate if the Sequence is the NA virus strain\n",
    "df['NA?'] = df['Reverse_Comp'].apply(read_typeNA)\n",
    "print(df)\n",
    "\n"
   ]
  },
  {
   "cell_type": "code",
   "execution_count": 50,
   "metadata": {},
   "outputs": [],
   "source": [
    "#Make Function to Determine if sequences are HA\n",
    "#HAend='CCGGATTTGCATATAATGATGCACCAT'\n",
    "\n",
    "def read_typeHA(seqreads):\n",
    "    \n",
    "    # compile the type search pattern\n",
    "    type_pattern = re.compile(\"(CCGGATTTGCATATAATGATGCACCAT)\") #need to change\n",
    "\n",
    "    match = type_pattern.search(seqreads)\n",
    "    #1 = true and 0 equals false\n",
    "    if match:\n",
    "        return 1\n",
    "    else:\n",
    "        return 0"
   ]
  },
  {
   "cell_type": "code",
   "execution_count": 51,
   "metadata": {},
   "outputs": [
    {
     "name": "stdout",
     "output_type": "stream",
     "text": [
      "                                               Sequence  \\\n",
      "0     GCTTAAGTTATTTAGTGCGGCCGCCTATGGTGCACTATTATTTATC...   \n",
      "1     CTTCCTGGTCACGGTTGCGGCCGCCTATGGTGCATCATTATATGCA...   \n",
      "2     CACGGCTATTACCCCGCGGCCGCCTATGGTGCACTATTATTTATCT...   \n",
      "3     TCAGCGATGAATGTGGGCGGCCGCCTATGTTGCATCATTATATGCA...   \n",
      "4     ATATGGGAGACGATAAGCGGCCGCCTATGGTGCATCATTATATGCA...   \n",
      "...                                                 ...   \n",
      "9995  GCCGTATGGCTGGTGGGCGGCCGCCTATGGTGCACTATTATTTATC...   \n",
      "9996  GGACAGCAGGGAGCGGGCGGCCGCCTATGGTGCATCATTATATGCA...   \n",
      "9997  TTTATATGAGTTTCGTGCGGCCGCCTATGGTGCACTATTATTTATC...   \n",
      "9998  GGAGTTTATAACATGCGCGGCCGCCTATGGTGCACTATTATTTATC...   \n",
      "9999  CGTAGGATTGAATTAGGCGGCCGCCTATGGTGCACTATTATTTATC...   \n",
      "\n",
      "                                           Reverse_Comp  NA?  HA?  \n",
      "0     TCTGCTATTCCGTGTCAATAAACATCGTCGTTGCATGCCTTCATTT...    1    0  \n",
      "1     TCGTACACTCTGTCATTAGGGATGTATTTGTTTAATGCATGGGGTT...    0    1  \n",
      "2     TCGTAGTGTATAGTAGAAGGGACGTCTACGTTAATCAGTGTCATAA...    1    0  \n",
      "3     TCAGATGAATGGTAGTTGGTGATAGCATGAGGTTGGGTCGGATGGT...    0    0  \n",
      "4     GAGTAAAGACTGTGTTCTGGGACGCGATCGAGTCTGCGAATGTGTG...    0    1  \n",
      "...                                                 ...  ...  ...  \n",
      "9995  GGGTTGTAGGTGTCTTCTGAGTCACTGTCGAATCAGGAGAGGTGTG...    1    0  \n",
      "9996  GCGTATAATCTGTAACCTCAATTGCGGCTCAGTAGTGCCCGGGGTC...    0    1  \n",
      "9997  CGGGAGTAGTGGAGTGTCGCAACGTGCTCGCTTATAGGATTCTGGC...    1    0  \n",
      "9998  TCGTAAGAACGGTGTTCAGGATTACGATGAATTAAAGCCTGTAGCC...    1    0  \n",
      "9999  TTATATTATTTGTCTGCAGATATATGTGTAAATTTTGCATAGTATT...    1    0  \n",
      "\n",
      "[10000 rows x 4 columns]\n"
     ]
    }
   ],
   "source": [
    "#Add a column to evalulate if the Sequence is the NA virus strain\n",
    "df['HA?'] = df['Reverse_Comp'].apply(read_typeHA)\n",
    "print(df)"
   ]
  },
  {
   "cell_type": "code",
   "execution_count": 31,
   "metadata": {},
   "outputs": [],
   "source": [
    "#Make function to read barcodes(lecture 9)\n",
    "def read_barcode(seqread, bclen=16, upstream='AGGCGGCCGC'):\n",
    "    # compile the barcode search pattern\n",
    "    barcode_pattern = re.compile(upstream + f\"(?P<barcode>[ATCGN]{{{bclen}}})$\")\n",
    "    \n",
    "    # search for the barcode pattern\n",
    "    match = barcode_pattern.search(seqread)\n",
    "    \n",
    "    if match:\n",
    "        barcode = match.group('barcode')\n",
    "        return barcode\n",
    "    else:\n",
    "        return None"
   ]
  },
  {
   "cell_type": "code",
   "execution_count": 52,
   "metadata": {},
   "outputs": [
    {
     "name": "stdout",
     "output_type": "stream",
     "text": [
      "                                               Sequence  \\\n",
      "0     GCTTAAGTTATTTAGTGCGGCCGCCTATGGTGCACTATTATTTATC...   \n",
      "1     CTTCCTGGTCACGGTTGCGGCCGCCTATGGTGCATCATTATATGCA...   \n",
      "2     CACGGCTATTACCCCGCGGCCGCCTATGGTGCACTATTATTTATCT...   \n",
      "3     TCAGCGATGAATGTGGGCGGCCGCCTATGTTGCATCATTATATGCA...   \n",
      "4     ATATGGGAGACGATAAGCGGCCGCCTATGGTGCATCATTATATGCA...   \n",
      "...                                                 ...   \n",
      "9995  GCCGTATGGCTGGTGGGCGGCCGCCTATGGTGCACTATTATTTATC...   \n",
      "9996  GGACAGCAGGGAGCGGGCGGCCGCCTATGGTGCATCATTATATGCA...   \n",
      "9997  TTTATATGAGTTTCGTGCGGCCGCCTATGGTGCACTATTATTTATC...   \n",
      "9998  GGAGTTTATAACATGCGCGGCCGCCTATGGTGCACTATTATTTATC...   \n",
      "9999  CGTAGGATTGAATTAGGCGGCCGCCTATGGTGCACTATTATTTATC...   \n",
      "\n",
      "                                           Reverse_Comp  NA?  HA?  \\\n",
      "0     TCTGCTATTCCGTGTCAATAAACATCGTCGTTGCATGCCTTCATTT...    1    0   \n",
      "1     TCGTACACTCTGTCATTAGGGATGTATTTGTTTAATGCATGGGGTT...    0    1   \n",
      "2     TCGTAGTGTATAGTAGAAGGGACGTCTACGTTAATCAGTGTCATAA...    1    0   \n",
      "3     TCAGATGAATGGTAGTTGGTGATAGCATGAGGTTGGGTCGGATGGT...    0    0   \n",
      "4     GAGTAAAGACTGTGTTCTGGGACGCGATCGAGTCTGCGAATGTGTG...    0    1   \n",
      "...                                                 ...  ...  ...   \n",
      "9995  GGGTTGTAGGTGTCTTCTGAGTCACTGTCGAATCAGGAGAGGTGTG...    1    0   \n",
      "9996  GCGTATAATCTGTAACCTCAATTGCGGCTCAGTAGTGCCCGGGGTC...    0    1   \n",
      "9997  CGGGAGTAGTGGAGTGTCGCAACGTGCTCGCTTATAGGATTCTGGC...    1    0   \n",
      "9998  TCGTAAGAACGGTGTTCAGGATTACGATGAATTAAAGCCTGTAGCC...    1    0   \n",
      "9999  TTATATTATTTGTCTGCAGATATATGTGTAAATTTTGCATAGTATT...    1    0   \n",
      "\n",
      "               Barcode  \n",
      "0     ACTAAATAACTTAAGC  \n",
      "1     AACCGTGACCAGGAAG  \n",
      "2                 None  \n",
      "3     CCACATTCATCGCTGA  \n",
      "4     TTATCGTCTCCCATAT  \n",
      "...                ...  \n",
      "9995  CCACCAGCCATACGGC  \n",
      "9996  CCGCTCCCTGCTGTCC  \n",
      "9997  ACGAAACTCATATAAA  \n",
      "9998  GCATGTTATAAACTCC  \n",
      "9999  CTAATTCAATCCTACG  \n",
      "\n",
      "[10000 rows x 5 columns]\n"
     ]
    }
   ],
   "source": [
    "df['Barcode'] = df['Reverse_Comp'].apply(read_barcode)\n",
    "print(df)"
   ]
  },
  {
   "cell_type": "code",
   "execution_count": 58,
   "metadata": {},
   "outputs": [
    {
     "name": "stdout",
     "output_type": "stream",
     "text": [
      "0.4122\n",
      "0.5409\n"
     ]
    }
   ],
   "source": [
    "print(df[\"NA?\"].mean())\n",
    "print(df[\"HA?\"].mean())"
   ]
  },
  {
   "cell_type": "markdown",
   "metadata": {},
   "source": [
    "1. How many reads map to HA, and how many reads map to NA?\n",
    "41.22 percent of the sequences are NA strain and 54.09 are HA strain with 4.69 percent being neither NA or HA."
   ]
  },
  {
   "cell_type": "markdown",
   "metadata": {},
   "source": [
    "2. What is the HA barcode with the most counts (and how many counts)? Also answer the same question for NA.\n",
    "\n",
    "    _Hint: you will need to find the key associated with the maximum value in your dictionary. There are many ways to do this._"
   ]
  },
  {
   "cell_type": "code",
   "execution_count": null,
   "metadata": {},
   "outputs": [],
   "source": [
    "def get_monthly_mean(df):\n",
    "\n",
    "    df_grouped = df.groupby('Month_of_Year')['CallsPresented'].mean()\n",
    "\n",
    "    #Then you can pass the column to a list or just return the grouped df, \n",
    "    #whatever suits your use case better\n",
    "\n",
    "    return df_grouped"
   ]
  }
 ],
 "metadata": {
  "kernelspec": {
   "display_name": "Python 3.9.12 ('base')",
   "language": "python",
   "name": "python3"
  },
  "language_info": {
   "codemirror_mode": {
    "name": "ipython",
    "version": 3
   },
   "file_extension": ".py",
   "mimetype": "text/x-python",
   "name": "python",
   "nbconvert_exporter": "python",
   "pygments_lexer": "ipython3",
   "version": "3.9.12"
  },
  "toc": {
   "nav_menu": {},
   "number_sections": false,
   "sideBar": true,
   "skip_h1_title": false,
   "toc_cell": false,
   "toc_position": {
    "height": "623.8px",
    "left": "0px",
    "right": "829.6px",
    "top": "33.2px",
    "width": "322.4px"
   },
   "toc_section_display": "block",
   "toc_window_display": true
  },
  "vscode": {
   "interpreter": {
    "hash": "d4d1e4263499bec80672ea0156c357c1ee493ec2b1c70f0acce89fc37c4a6abe"
   }
  }
 },
 "nbformat": 4,
 "nbformat_minor": 2
}
